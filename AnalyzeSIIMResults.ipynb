{
 "cells": [
  {
   "cell_type": "code",
   "execution_count": 14,
   "metadata": {},
   "outputs": [],
   "source": [
    "# now read in the reports from SIIMCombinedReports.xlsx into a pandas dataframe\n",
    "# these are results using ollama and llama3:8B\n",
    "import pandas as pd\n",
    "import numpy as np \n",
    "\n",
    "MODEL = 'llama3-70b'\n",
    "MODEL = 'vllm70B'\n",
    "RESULTS_FILE = '~/Desktop/SIIM_Results_' + MODEL + '.csv'\n",
    "\n",
    "\n",
    "# Load the Excel file into a DataFrame\n",
    "results_df = pd.read_csv(RESULTS_FILE)\n",
    "# get rid of all lines after first line in every cell\n",
    "results_df.replace('\\n.*', '', regex=True, inplace=True)\n",
    "# get rid of all '\"' in every cell (for some reason there are some) \n",
    "results_df.replace('\"', '', inplace=True)\n",
    "\n",
    "# convert all 'Absent' to 'No'\n",
    "results_df.replace('Absent', 'No', inplace=True)\n",
    "results_df.replace('Present', 'Yes', inplace=True)\n",
    "results_df.replace('Absent\"', 'No', inplace=True)\n",
    "results_df.replace('Present\"', 'Yes', inplace=True)\n",
    "results_df.replace('No\"', 'No', inplace=True)\n",
    "results_df.replace('Yes\"', 'Yes', inplace=True)\n",
    "results_df.replace('Stable\"', 'Stable', inplace=True)\n",
    "results_df.replace('Regression\"', 'Regression', inplace=True)\n",
    "results_df.replace('Pseudoprogression\"', 'Pseudoprogression', inplace=True)\n",
    "results_df.replace('Pseduoreponse\"', 'Pseduoreponse', inplace=True)\n",
    "\n",
    "results_df = results_df.rename(columns={'Pulmonary Embolism_response_0': 'Pulmonary Embolism_response', \"Pneumonia_response_0\":\"Pneumonia_response\", \"LiverMets_response_0\": \"LiverMets_response\",\n",
    "       \"C1FX_response_0\":\"C1FX_response\", \"C2FX_response_0\":\"C2FX_response\", \"C3FX_response_0\":\"C3FX_response\", \"C4FX_response_0\":\"C4FX_response\", \"C5FX_response_0\":\"C5FX_response\", \n",
    "       \"C6FX_response_0\":\"C6FX_response\", \"C7FX_response_0\":\"C7FX_response\", \"GliomaStatus_response_0\":\"GliomaStatus_response\" }) \n",
    "\n",
    "\n",
    "analysis_file = open(MODEL+\"_Analysis.txt\", \"w\")\n",
    "results_df"
   ]
  },
  {
   "cell_type": "code",
   "execution_count": 15,
   "metadata": {
    "vscode": {
     "languageId": "ruby"
    }
   },
   "outputs": [],
   "source": [
    "# extract results_df into 5 sepeate dataframes based on ExamClass column, \n",
    "PE_df = results_df[results_df['ExamClass'] == 'Pulmonary Embolism']\n",
    "Pneumonia_df = results_df[results_df['ExamClass'] == 'Pneumonia']\n",
    "LiverMets_df = results_df[results_df['ExamClass'] == 'Liver metastases']\n",
    "Glioma_df = results_df[results_df['ExamClass'] == 'Glioma progression']\n",
    "ICH_df = results_df[results_df['ExamClass'] == 'Intracranial hemorrhage']\n",
    "CSFX_df = results_df[results_df['ExamClass'] == 'Cervical Spine Fracture']\n",
    "#PE_df.describe()\n",
    "#Pneumonia_df.describe()\n",
    "#LiverMets_df.describe()\n",
    "#Glioma_df.describe()\n",
    "#ICH_df.describe()\n",
    "#CSFX_df.describe()\n",
    "\n",
    "LiverMets_df"
   ]
  },
  {
   "cell_type": "code",
   "execution_count": 16,
   "metadata": {},
   "outputs": [
    {
     "name": "stdout",
     "output_type": "stream",
     "text": [
      "Pneumonia Correct Counts: 111 VERSUS  Incorrect Counts: 5 = 95% right\n",
      "PE Correct Counts: 71 VERSUS  Incorrect Counts: 29 = 71% right\n",
      "Liver Mets Correct Counts: 89 VERSUS  Incorrect Counts: 16 = 84% right\n"
     ]
    },
    {
     "data": {
      "text/plain": [
       "' \\ncorrect_counts = results_df.groupby(\\'ExamClass\\')[\\'Correct\\'].sum()\\nincorrect_counts = results_df.groupby(\\'ExamClass\\')[\\'Correct\\'].count() - correct_counts\\n\\nprint(f\"Correct Counts (so far--only binary categories done): {correct}\")\\nprint(correct_counts)\\nprint(f\"\\n\\nIncorrect Counts: {incorrect}\")\\nprint(incorrect_counts)\\n'"
      ]
     },
     "execution_count": 16,
     "metadata": {},
     "output_type": "execute_result"
    }
   ],
   "source": [
    "# Mapping of categories to their respective response columns in output_df\n",
    "binary_category_response_values = ['Pneumonia_response', 'LiverMets_response', 'Pulmonary Embolism_response']\n",
    "#     'Cervical Spine Fracture' : 'CSFx_response',\n",
    "#    'Glioma progression': 'Glioma_response',\n",
    "#     'Intracranial hemorrhage': ''\n",
    "#categories = results_df['ExamClass'].unique()\n",
    "#print (categories)\n",
    "\n",
    "# Create a new column 'Correct' in output_df\n",
    "results_df['Correct'] = 0\n",
    "pn_correct = pe_correct = lm_correct = 0\n",
    "pn_incorrect = pe_incorrect = lm_incorrect = 0\n",
    "# first process the 3 report types that are binary\n",
    "for i, examClass in enumerate(['Pneumonia', 'Liver metastases', 'Pulmonary Embolism']):\n",
    "# Iterate over each row in reports_df\n",
    "    for index, row in results_df.iterrows():\n",
    "        # Check if the 'ExamClass' is one of the keys in binary_category_response_map\n",
    "        #print (index, row)\n",
    "        if row['ExamClass'] == examClass:\n",
    "            #print (index, binary_category_response_keys[key_index])\n",
    "            # Get the response column for this 'ExamClass'\n",
    "            response_column = binary_category_response_values[i]\n",
    "            #print (response_column)\n",
    "            # get the value in the cell for the 'reponse_column'\n",
    "            response = row[response_column]\n",
    "#            output_row = output_df.loc[index]\n",
    "            # If the output row is not empty, compare the 'Findings' value with the value in the response column\n",
    " #           if not output_row.empty:\n",
    "            findings = row['Findings']\n",
    "#                response = output_row[response_column].values[0]\n",
    "                \n",
    "                # Set 'Correct' to 1 if the findings match the response, otherwise set to 0\n",
    "            #print(row)\n",
    "            # print (f'Row: {index}: {response} - {findings} ')\n",
    "\n",
    "            if findings == response:\n",
    "                #print (f'Correct: {index} is {examClass}: {response} - {findings} ')\n",
    "                results_df.iloc[index, results_df.columns.get_loc('Correct')] = 1\n",
    "                if i == 0:\n",
    "                    pn_correct += 1\n",
    "                elif i == 1:\n",
    "                    lm_correct += 1\n",
    "                else:\n",
    "                    pe_correct += 1\n",
    "            else:\n",
    "                #print (f'Incorrect: {index} is {examClass}: {response} - {findings} ')\n",
    "                if i == 0:\n",
    "                    pn_incorrect += 1\n",
    "                elif i == 1:\n",
    "                    lm_incorrect += 1\n",
    "                else:\n",
    "                    pe_incorrect += 1\n",
    "    \n",
    "\n",
    "print(f\"Pneumonia Correct Counts: {pn_correct} VERSUS  Incorrect Counts: {pn_incorrect} = {pn_correct*100//(pn_correct + pn_incorrect)}% right\")\n",
    "print(f\"PE Correct Counts: {pe_correct} VERSUS  Incorrect Counts: {pe_incorrect} = {pe_correct*100//(pe_correct + pe_incorrect)}% right\")\n",
    "print(f\"Liver Mets Correct Counts: {lm_correct} VERSUS  Incorrect Counts: {lm_incorrect} = {lm_correct*100//(lm_correct + lm_incorrect)}% right\")\n",
    "\n",
    "# write the same reults out to analysis_file\n",
    "analysis_file.write(f\"Pneumonia Correct Counts: {pn_correct} VERSUS  Incorrect Counts: {pn_incorrect} = {pn_correct*100//(pn_correct + pn_incorrect)}% right\\n\")\n",
    "analysis_file.write(f\"PE Correct Counts: {pe_correct} VERSUS  Incorrect Counts: {pe_incorrect} = {pe_correct*100//(pe_correct + pe_incorrect)}% right\\n\")\n",
    "analysis_file.write(f\"Liver Mets Correct Counts: {lm_correct} VERSUS  Incorrect Counts: {lm_incorrect} = {lm_correct*100//(lm_correct + lm_incorrect)}% right\\n\")\n",
    "\n",
    "\n"
   ]
  },
  {
   "cell_type": "code",
   "execution_count": 17,
   "metadata": {},
   "outputs": [
    {
     "name": "stdout",
     "output_type": "stream",
     "text": [
      "CSpine FX Correct Counts: 109 VERSUS  Incorrect Counts: 25 = 81% right\n"
     ]
    },
    {
     "name": "stderr",
     "output_type": "stream",
     "text": [
      "/var/folders/db/l3_c22hj5r1dlplgbcl64ng80000gr/T/ipykernel_26899/2662929291.py:33: SettingWithCopyWarning: \n",
      "A value is trying to be set on a copy of a slice from a DataFrame.\n",
      "Try using .loc[row_indexer,col_indexer] = value instead\n",
      "\n",
      "See the caveats in the documentation: https://pandas.pydata.org/pandas-docs/stable/user_guide/indexing.html#returning-a-view-versus-a-copy\n",
      "  CSFX_df.loc[index, 'Correct'] = Correct\n"
     ]
    },
    {
     "data": {
      "text/plain": [
       "71"
      ]
     },
     "execution_count": 17,
     "metadata": {},
     "output_type": "execute_result"
    }
   ],
   "source": [
    "# now work on Spine fractures. Challenging since there can be more than 1\n",
    "correct = 0\n",
    "incorrect = 0\n",
    "\n",
    "for index, row in CSFX_df.iterrows():\n",
    "    # Check if the 'ExamClass' is one of the keys in binary_category_response_map\n",
    "    #print (index, row)\n",
    "#    if row['ExamClass'] == 'Cervical Spine Fracture':\n",
    "    # Get the response column for this 'ExamClass'\n",
    "    result = 'No'\n",
    "    for i in range (1,8):\n",
    "        cat_name = f'C{i}FX_response'\n",
    "        response = row[cat_name]\n",
    "        if response == 'Yes': # if fracture\n",
    "            if result == 'No': # replace if none seen to this point\n",
    "                result = f'C{i}FX'\n",
    "            else: # or concatenate\n",
    "                result += f',C{i}FX'\n",
    "    #print (result)            \n",
    "#            output_row = output_df.loc[index]\n",
    "    # If the output row is not empty, compare the 'Findings' value with the value in the response column\n",
    "#           if not output_row.empty:\n",
    "    findings = row['Findings']\n",
    "    findings = findings.replace(\" \",\"\")\n",
    "    if len(findings) != len(result):\n",
    "        Correct = 0  # not correct if number of fractures doesn't match \n",
    "        incorrect += 1\n",
    "        #print (f'row {index}: {findings} vs (predicted): {result} -- INCORRECT')\n",
    "    else:\n",
    "        Correct = 1\n",
    "        correct += 1\n",
    "        #print (f'row {index}: {findings} vs (predicted): {result} -- CORRECT')\n",
    "    CSFX_df.loc[index, 'Correct'] = Correct\n",
    "\n",
    "\n",
    "#    CSFX_df.iloc[index, CSFX_df.columns.get_loc('Correct')] = Correct\n",
    "\n",
    "print(f\"CSpine FX Correct Counts: {correct} VERSUS  Incorrect Counts: {incorrect} = {correct*100//(correct + incorrect)}% right\")\n",
    "analysis_file.write(f\"CSpine FX Correct Counts: {correct} VERSUS  Incorrect Counts: {incorrect} = {correct*100//(correct + incorrect)}% right\\n\")\n",
    "\n"
   ]
  },
  {
   "cell_type": "code",
   "execution_count": 18,
   "metadata": {},
   "outputs": [
    {
     "name": "stdout",
     "output_type": "stream",
     "text": [
      "GLIOMA--Correct Counts: 136 VERSUS  Incorrect Counts: 47 = 74% right\n"
     ]
    },
    {
     "name": "stderr",
     "output_type": "stream",
     "text": [
      "/var/folders/db/l3_c22hj5r1dlplgbcl64ng80000gr/T/ipykernel_26899/3696618444.py:23: SettingWithCopyWarning: \n",
      "A value is trying to be set on a copy of a slice from a DataFrame.\n",
      "Try using .loc[row_indexer,col_indexer] = value instead\n",
      "\n",
      "See the caveats in the documentation: https://pandas.pydata.org/pandas-docs/stable/user_guide/indexing.html#returning-a-view-versus-a-copy\n",
      "  Glioma_df.loc[index, 'Correct'] = Correct\n"
     ]
    },
    {
     "data": {
      "text/plain": [
       "69"
      ]
     },
     "execution_count": 18,
     "metadata": {},
     "output_type": "execute_result"
    }
   ],
   "source": [
    "GBM_Response_Types = ['IMPROVED', 'PROGRESSION', 'STABLE', 'PSEUDOPROGRESSION']\n",
    "# now work on Spine fractures. Challenging since there can be more than 1\n",
    "correct = 0\n",
    "incorrect = 0\n",
    "\n",
    "for index, row in Glioma_df.iterrows():\n",
    "    # Check if the 'ExamClass' is one of the keys in binary_category_response_map\n",
    "    #print (index, row)\n",
    "#    if row['ExamClass'] == 'Cervical Spine Fracture':\n",
    "    # Get the response column for this 'ExamClass'\n",
    "    prediction = row['GliomaStatus_response'].lower()\n",
    "    truth = row['Findings'].lower()\n",
    "    if prediction == 'no':\n",
    "        prediction = 'stable'\n",
    "    if prediction in truth:\n",
    "        Correct = 1\n",
    "        correct += 1\n",
    "        #print (f'row {index}: {truth} vs {prediction}: -- CORRECT')\n",
    "    else:\n",
    "        Correct = 0  # not correct if number of fractures doesn't match \n",
    "        incorrect += 1\n",
    "        #print (f'row {index}: {truth} vs {prediction}:-- INCORRECT')\n",
    "    Glioma_df.loc[index, 'Correct'] = Correct\n",
    "\n",
    "print(f\"GLIOMA--Correct Counts: {correct} VERSUS  Incorrect Counts: {incorrect} = {correct*100//(correct + incorrect)}% right\")\n",
    "analysis_file.write(f\"GLIOMA--Correct Counts: {correct} VERSUS  Incorrect Counts: {incorrect} = {correct*100//(correct + incorrect)}% right\\n\")\n"
   ]
  },
  {
   "cell_type": "code",
   "execution_count": 19,
   "metadata": {},
   "outputs": [
    {
     "data": {
      "text/plain": [
       "'\\nICH_Types = [\\'SAH\\', \\'SDH\\', \\'EDH\\', \\'IPH\\', \\'IVH\\']\\n# now work on Spine fractures. Challenging since there can be more than 1\\ncorrect = 0\\nincorrect = 0\\n\\nfor index, row in ICH_df.iterrows():\\n    # Check if the \\'ExamClass\\' is one of the keys in binary_category_response_map\\n    #print (index, row)\\n#    if row[\\'ExamClass\\'] == \\'Cervical Spine Fracture\\':\\n    # Get the response column for this \\'ExamClass\\'\\n    result = \\'No\\'\\n    for i, ich_type in enumerate(ICH_Types):\\n        cat_name = f\\'C{i}FX_response\\'\\n        response = row[cat_name]\\n        if response == \\'Yes\\': # if fracture\\n            if result == \\'No\\': # replace if none seen to this point\\n                result = f\\'C{i}FX\\'\\n            else: # or concatenate\\n                result += f\\',C{i}FX\\'\\n    #print (result)            \\n#            output_row = output_df.loc[index]\\n    # If the output row is not empty, compare the \\'Findings\\' value with the value in the response column\\n#           if not output_row.empty:\\n    findings = row[\\'Findings\\']\\n    findings = findings.replace(\" \",\"\")\\n    if len(findings) != len(result):\\n        Correct = 0  # not correct if number of fractures doesn\\'t match \\n        incorrect += 1\\n        #print (f\\'row {index}: {findings} vs (predicted): {result} -- INCORRECT\\')\\n    else:\\n        Correct = 1\\n        correct += 1\\n        #print (f\\'row {index}: {findings} vs (predicted): {result} -- CORRECT\\')\\n    ICH_df.at[index, \\'Correct\\'] = Correct\\n\\n\\n#    CSFX_df.iloc[index, CSFX_df.columns.get_loc(\\'Correct\\')] = Correct\\n\\n\\n# Count the number of correct and incorrect by each \\'ExamClass\\'\\ncorrect_counts = ICH_df[\\'Correct\\'].sum()\\nincorrect_counts = ICH_df[\\'Correct\\'].count() - correct_counts\\n\\nprint(f\"Correct Counts: {correct} VERSUS  Incorrect Counts: {incorrect} = {correct*100//(correct + incorrect)}% right\")\\n\\n'"
      ]
     },
     "execution_count": 19,
     "metadata": {},
     "output_type": "execute_result"
    }
   ],
   "source": [
    "'''\n",
    "ICH_Types = ['SAH', 'SDH', 'EDH', 'IPH', 'IVH']\n",
    "# now work on Spine fractures. Challenging since there can be more than 1\n",
    "correct = 0\n",
    "incorrect = 0\n",
    "\n",
    "for index, row in ICH_df.iterrows():\n",
    "    # Check if the 'ExamClass' is one of the keys in binary_category_response_map\n",
    "    #print (index, row)\n",
    "#    if row['ExamClass'] == 'Cervical Spine Fracture':\n",
    "    # Get the response column for this 'ExamClass'\n",
    "    result = 'No'\n",
    "    for i, ich_type in enumerate(ICH_Types):\n",
    "        cat_name = f'C{i}FX_response'\n",
    "        response = row[cat_name]\n",
    "        if response == 'Yes': # if fracture\n",
    "            if result == 'No': # replace if none seen to this point\n",
    "                result = f'C{i}FX'\n",
    "            else: # or concatenate\n",
    "                result += f',C{i}FX'\n",
    "    #print (result)            \n",
    "#            output_row = output_df.loc[index]\n",
    "    # If the output row is not empty, compare the 'Findings' value with the value in the response column\n",
    "#           if not output_row.empty:\n",
    "    findings = row['Findings']\n",
    "    findings = findings.replace(\" \",\"\")\n",
    "    if len(findings) != len(result):\n",
    "        Correct = 0  # not correct if number of fractures doesn't match \n",
    "        incorrect += 1\n",
    "        #print (f'row {index}: {findings} vs (predicted): {result} -- INCORRECT')\n",
    "    else:\n",
    "        Correct = 1\n",
    "        correct += 1\n",
    "        #print (f'row {index}: {findings} vs (predicted): {result} -- CORRECT')\n",
    "    ICH_df.at[index, 'Correct'] = Correct\n",
    "\n",
    "\n",
    "#    CSFX_df.iloc[index, CSFX_df.columns.get_loc('Correct')] = Correct\n",
    "\n",
    "\n",
    "# Count the number of correct and incorrect by each 'ExamClass'\n",
    "correct_counts = ICH_df['Correct'].sum()\n",
    "incorrect_counts = ICH_df['Correct'].count() - correct_counts\n",
    "\n",
    "print(f\"Correct Counts: {correct} VERSUS  Incorrect Counts: {incorrect} = {correct*100//(correct + incorrect)}% right\")\n",
    "\n",
    "'''"
   ]
  },
  {
   "cell_type": "code",
   "execution_count": 20,
   "metadata": {},
   "outputs": [],
   "source": [
    "analysis_file.close()\n"
   ]
  }
 ],
 "metadata": {
  "kernelspec": {
   "display_name": "radprompter",
   "language": "python",
   "name": "python3"
  },
  "language_info": {
   "codemirror_mode": {
    "name": "ipython",
    "version": 3
   },
   "file_extension": ".py",
   "mimetype": "text/x-python",
   "name": "python",
   "nbconvert_exporter": "python",
   "pygments_lexer": "ipython3",
   "version": "3.1.-1"
  }
 },
 "nbformat": 4,
 "nbformat_minor": 2
}
